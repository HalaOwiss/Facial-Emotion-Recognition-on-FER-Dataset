{
  "nbformat": 4,
  "nbformat_minor": 0,
  "metadata": {
    "colab": {
      "provenance": [],
      "gpuType": "T4"
    },
    "kernelspec": {
      "name": "python3",
      "display_name": "Python 3"
    },
    "language_info": {
      "name": "python"
    },
    "accelerator": "GPU"
  },
  "cells": [
    {
      "cell_type": "code",
      "execution_count": 1,
      "metadata": {
        "id": "gjZj6ITyF-RN"
      },
      "outputs": [],
      "source": [
        "import numpy as np\n",
        "import pandas as pd\n",
        "import matplotlib.pyplot as plt\n",
        "from tensorflow.keras.models import Sequential\n",
        "from tensorflow.keras.layers import (Conv2D, MaxPooling2D, Flatten, Dense,\n",
        "                                     Dropout, BatchNormalization)\n",
        "from tensorflow.keras.optimizers import Adam\n",
        "from tensorflow.keras.preprocessing.image import ImageDataGenerator\n",
        "from tensorflow.keras.regularizers import l2\n",
        "from tensorflow.keras.callbacks import EarlyStopping\n",
        "from sklearn.model_selection import train_test_split"
      ]
    },
    {
      "cell_type": "code",
      "source": [
        "pip install keras-tuner --upgrade"
      ],
      "metadata": {
        "colab": {
          "base_uri": "https://localhost:8080/"
        },
        "id": "46ElI8GmGI6M",
        "outputId": "1d0e25d3-a02e-4b2f-899c-ee1d8e3d368c"
      },
      "execution_count": 2,
      "outputs": [
        {
          "output_type": "stream",
          "name": "stdout",
          "text": [
            "Collecting keras-tuner\n",
            "  Downloading keras_tuner-1.4.7-py3-none-any.whl.metadata (5.4 kB)\n",
            "Requirement already satisfied: keras in /usr/local/lib/python3.11/dist-packages (from keras-tuner) (3.8.0)\n",
            "Requirement already satisfied: packaging in /usr/local/lib/python3.11/dist-packages (from keras-tuner) (25.0)\n",
            "Requirement already satisfied: requests in /usr/local/lib/python3.11/dist-packages (from keras-tuner) (2.32.3)\n",
            "Collecting kt-legacy (from keras-tuner)\n",
            "  Downloading kt_legacy-1.0.5-py3-none-any.whl.metadata (221 bytes)\n",
            "Requirement already satisfied: absl-py in /usr/local/lib/python3.11/dist-packages (from keras->keras-tuner) (1.4.0)\n",
            "Requirement already satisfied: numpy in /usr/local/lib/python3.11/dist-packages (from keras->keras-tuner) (2.0.2)\n",
            "Requirement already satisfied: rich in /usr/local/lib/python3.11/dist-packages (from keras->keras-tuner) (13.9.4)\n",
            "Requirement already satisfied: namex in /usr/local/lib/python3.11/dist-packages (from keras->keras-tuner) (0.1.0)\n",
            "Requirement already satisfied: h5py in /usr/local/lib/python3.11/dist-packages (from keras->keras-tuner) (3.14.0)\n",
            "Requirement already satisfied: optree in /usr/local/lib/python3.11/dist-packages (from keras->keras-tuner) (0.16.0)\n",
            "Requirement already satisfied: ml-dtypes in /usr/local/lib/python3.11/dist-packages (from keras->keras-tuner) (0.4.1)\n",
            "Requirement already satisfied: charset-normalizer<4,>=2 in /usr/local/lib/python3.11/dist-packages (from requests->keras-tuner) (3.4.2)\n",
            "Requirement already satisfied: idna<4,>=2.5 in /usr/local/lib/python3.11/dist-packages (from requests->keras-tuner) (3.10)\n",
            "Requirement already satisfied: urllib3<3,>=1.21.1 in /usr/local/lib/python3.11/dist-packages (from requests->keras-tuner) (2.4.0)\n",
            "Requirement already satisfied: certifi>=2017.4.17 in /usr/local/lib/python3.11/dist-packages (from requests->keras-tuner) (2025.7.14)\n",
            "Requirement already satisfied: typing-extensions>=4.6.0 in /usr/local/lib/python3.11/dist-packages (from optree->keras->keras-tuner) (4.14.1)\n",
            "Requirement already satisfied: markdown-it-py>=2.2.0 in /usr/local/lib/python3.11/dist-packages (from rich->keras->keras-tuner) (3.0.0)\n",
            "Requirement already satisfied: pygments<3.0.0,>=2.13.0 in /usr/local/lib/python3.11/dist-packages (from rich->keras->keras-tuner) (2.19.2)\n",
            "Requirement already satisfied: mdurl~=0.1 in /usr/local/lib/python3.11/dist-packages (from markdown-it-py>=2.2.0->rich->keras->keras-tuner) (0.1.2)\n",
            "Downloading keras_tuner-1.4.7-py3-none-any.whl (129 kB)\n",
            "\u001b[2K   \u001b[90m━━━━━━━━━━━━━━━━━━━━━━━━━━━━━━━━━━━━━━━━\u001b[0m \u001b[32m129.1/129.1 kB\u001b[0m \u001b[31m4.1 MB/s\u001b[0m eta \u001b[36m0:00:00\u001b[0m\n",
            "\u001b[?25hDownloading kt_legacy-1.0.5-py3-none-any.whl (9.6 kB)\n",
            "Installing collected packages: kt-legacy, keras-tuner\n",
            "Successfully installed keras-tuner-1.4.7 kt-legacy-1.0.5\n"
          ]
        }
      ]
    },
    {
      "cell_type": "code",
      "source": [
        "import tensorflow as tf\n",
        "from tensorflow.keras.models import Sequential\n",
        "from tensorflow.keras.layers import (Conv2D, MaxPooling2D, Flatten, Dense,\n",
        "                                     Dropout, BatchNormalization)\n",
        "from tensorflow.keras.optimizers import Adam\n",
        "from tensorflow.keras.callbacks import EarlyStopping, ReduceLROnPlateau\n",
        "from tensorflow.keras.utils import to_categorical\n",
        "import numpy as np\n",
        "# import deeplake\n",
        "import matplotlib.pyplot as plt\n",
        "from tensorflow.keras.losses import CategoricalCrossentropy"
      ],
      "metadata": {
        "id": "RXZADztzGLvS"
      },
      "execution_count": 3,
      "outputs": []
    },
    {
      "cell_type": "code",
      "source": [
        "from google.colab import files\n",
        "uploaded = files.upload()\n"
      ],
      "metadata": {
        "colab": {
          "base_uri": "https://localhost:8080/",
          "height": 73
        },
        "id": "JoxVJMjRGilv",
        "outputId": "7d16924a-f97b-47de-ca32-0854af40934d"
      },
      "execution_count": 4,
      "outputs": [
        {
          "output_type": "display_data",
          "data": {
            "text/plain": [
              "<IPython.core.display.HTML object>"
            ],
            "text/html": [
              "\n",
              "     <input type=\"file\" id=\"files-c6771504-5913-4889-9eac-b5acba01fad1\" name=\"files[]\" multiple disabled\n",
              "        style=\"border:none\" />\n",
              "     <output id=\"result-c6771504-5913-4889-9eac-b5acba01fad1\">\n",
              "      Upload widget is only available when the cell has been executed in the\n",
              "      current browser session. Please rerun this cell to enable.\n",
              "      </output>\n",
              "      <script>// Copyright 2017 Google LLC\n",
              "//\n",
              "// Licensed under the Apache License, Version 2.0 (the \"License\");\n",
              "// you may not use this file except in compliance with the License.\n",
              "// You may obtain a copy of the License at\n",
              "//\n",
              "//      http://www.apache.org/licenses/LICENSE-2.0\n",
              "//\n",
              "// Unless required by applicable law or agreed to in writing, software\n",
              "// distributed under the License is distributed on an \"AS IS\" BASIS,\n",
              "// WITHOUT WARRANTIES OR CONDITIONS OF ANY KIND, either express or implied.\n",
              "// See the License for the specific language governing permissions and\n",
              "// limitations under the License.\n",
              "\n",
              "/**\n",
              " * @fileoverview Helpers for google.colab Python module.\n",
              " */\n",
              "(function(scope) {\n",
              "function span(text, styleAttributes = {}) {\n",
              "  const element = document.createElement('span');\n",
              "  element.textContent = text;\n",
              "  for (const key of Object.keys(styleAttributes)) {\n",
              "    element.style[key] = styleAttributes[key];\n",
              "  }\n",
              "  return element;\n",
              "}\n",
              "\n",
              "// Max number of bytes which will be uploaded at a time.\n",
              "const MAX_PAYLOAD_SIZE = 100 * 1024;\n",
              "\n",
              "function _uploadFiles(inputId, outputId) {\n",
              "  const steps = uploadFilesStep(inputId, outputId);\n",
              "  const outputElement = document.getElementById(outputId);\n",
              "  // Cache steps on the outputElement to make it available for the next call\n",
              "  // to uploadFilesContinue from Python.\n",
              "  outputElement.steps = steps;\n",
              "\n",
              "  return _uploadFilesContinue(outputId);\n",
              "}\n",
              "\n",
              "// This is roughly an async generator (not supported in the browser yet),\n",
              "// where there are multiple asynchronous steps and the Python side is going\n",
              "// to poll for completion of each step.\n",
              "// This uses a Promise to block the python side on completion of each step,\n",
              "// then passes the result of the previous step as the input to the next step.\n",
              "function _uploadFilesContinue(outputId) {\n",
              "  const outputElement = document.getElementById(outputId);\n",
              "  const steps = outputElement.steps;\n",
              "\n",
              "  const next = steps.next(outputElement.lastPromiseValue);\n",
              "  return Promise.resolve(next.value.promise).then((value) => {\n",
              "    // Cache the last promise value to make it available to the next\n",
              "    // step of the generator.\n",
              "    outputElement.lastPromiseValue = value;\n",
              "    return next.value.response;\n",
              "  });\n",
              "}\n",
              "\n",
              "/**\n",
              " * Generator function which is called between each async step of the upload\n",
              " * process.\n",
              " * @param {string} inputId Element ID of the input file picker element.\n",
              " * @param {string} outputId Element ID of the output display.\n",
              " * @return {!Iterable<!Object>} Iterable of next steps.\n",
              " */\n",
              "function* uploadFilesStep(inputId, outputId) {\n",
              "  const inputElement = document.getElementById(inputId);\n",
              "  inputElement.disabled = false;\n",
              "\n",
              "  const outputElement = document.getElementById(outputId);\n",
              "  outputElement.innerHTML = '';\n",
              "\n",
              "  const pickedPromise = new Promise((resolve) => {\n",
              "    inputElement.addEventListener('change', (e) => {\n",
              "      resolve(e.target.files);\n",
              "    });\n",
              "  });\n",
              "\n",
              "  const cancel = document.createElement('button');\n",
              "  inputElement.parentElement.appendChild(cancel);\n",
              "  cancel.textContent = 'Cancel upload';\n",
              "  const cancelPromise = new Promise((resolve) => {\n",
              "    cancel.onclick = () => {\n",
              "      resolve(null);\n",
              "    };\n",
              "  });\n",
              "\n",
              "  // Wait for the user to pick the files.\n",
              "  const files = yield {\n",
              "    promise: Promise.race([pickedPromise, cancelPromise]),\n",
              "    response: {\n",
              "      action: 'starting',\n",
              "    }\n",
              "  };\n",
              "\n",
              "  cancel.remove();\n",
              "\n",
              "  // Disable the input element since further picks are not allowed.\n",
              "  inputElement.disabled = true;\n",
              "\n",
              "  if (!files) {\n",
              "    return {\n",
              "      response: {\n",
              "        action: 'complete',\n",
              "      }\n",
              "    };\n",
              "  }\n",
              "\n",
              "  for (const file of files) {\n",
              "    const li = document.createElement('li');\n",
              "    li.append(span(file.name, {fontWeight: 'bold'}));\n",
              "    li.append(span(\n",
              "        `(${file.type || 'n/a'}) - ${file.size} bytes, ` +\n",
              "        `last modified: ${\n",
              "            file.lastModifiedDate ? file.lastModifiedDate.toLocaleDateString() :\n",
              "                                    'n/a'} - `));\n",
              "    const percent = span('0% done');\n",
              "    li.appendChild(percent);\n",
              "\n",
              "    outputElement.appendChild(li);\n",
              "\n",
              "    const fileDataPromise = new Promise((resolve) => {\n",
              "      const reader = new FileReader();\n",
              "      reader.onload = (e) => {\n",
              "        resolve(e.target.result);\n",
              "      };\n",
              "      reader.readAsArrayBuffer(file);\n",
              "    });\n",
              "    // Wait for the data to be ready.\n",
              "    let fileData = yield {\n",
              "      promise: fileDataPromise,\n",
              "      response: {\n",
              "        action: 'continue',\n",
              "      }\n",
              "    };\n",
              "\n",
              "    // Use a chunked sending to avoid message size limits. See b/62115660.\n",
              "    let position = 0;\n",
              "    do {\n",
              "      const length = Math.min(fileData.byteLength - position, MAX_PAYLOAD_SIZE);\n",
              "      const chunk = new Uint8Array(fileData, position, length);\n",
              "      position += length;\n",
              "\n",
              "      const base64 = btoa(String.fromCharCode.apply(null, chunk));\n",
              "      yield {\n",
              "        response: {\n",
              "          action: 'append',\n",
              "          file: file.name,\n",
              "          data: base64,\n",
              "        },\n",
              "      };\n",
              "\n",
              "      let percentDone = fileData.byteLength === 0 ?\n",
              "          100 :\n",
              "          Math.round((position / fileData.byteLength) * 100);\n",
              "      percent.textContent = `${percentDone}% done`;\n",
              "\n",
              "    } while (position < fileData.byteLength);\n",
              "  }\n",
              "\n",
              "  // All done.\n",
              "  yield {\n",
              "    response: {\n",
              "      action: 'complete',\n",
              "    }\n",
              "  };\n",
              "}\n",
              "\n",
              "scope.google = scope.google || {};\n",
              "scope.google.colab = scope.google.colab || {};\n",
              "scope.google.colab._files = {\n",
              "  _uploadFiles,\n",
              "  _uploadFilesContinue,\n",
              "};\n",
              "})(self);\n",
              "</script> "
            ]
          },
          "metadata": {}
        },
        {
          "output_type": "stream",
          "name": "stdout",
          "text": [
            "Saving archive (7).zip to archive (7).zip\n"
          ]
        }
      ]
    },
    {
      "cell_type": "code",
      "source": [
        "import zipfile\n",
        "import os\n",
        "\n",
        "zip_path = '/content/archive (7).zip'  # or use the exact filename\n",
        "extract_path = '/content/fer2013_extracted'\n",
        "\n",
        "with zipfile.ZipFile(zip_path, 'r') as zip_ref:\n",
        "    zip_ref.extractall(extract_path)\n"
      ],
      "metadata": {
        "id": "XXlcCM4tGmpD"
      },
      "execution_count": 5,
      "outputs": []
    },
    {
      "cell_type": "code",
      "source": [
        "import pandas as pd\n",
        "\n",
        "def build_csv(data_dir, output_csv):\n",
        "    data = []\n",
        "    for label in os.listdir(data_dir):\n",
        "        label_dir = os.path.join(data_dir, label)\n",
        "        if not os.path.isdir(label_dir):\n",
        "            continue\n",
        "        for img_name in os.listdir(label_dir):\n",
        "            img_path = os.path.join(label_dir, img_name)\n",
        "            data.append({'path': img_path, 'label': label})\n",
        "\n",
        "    df = pd.DataFrame(data)\n",
        "    df.to_csv(output_csv, index=False)\n",
        "    print(f\"Saved: {output_csv} — {len(df)} entries\")\n",
        "\n",
        "\n"
      ],
      "metadata": {
        "id": "rLCH-PwDGxjE"
      },
      "execution_count": 6,
      "outputs": []
    },
    {
      "cell_type": "code",
      "source": [
        "import shutil\n",
        "import os\n",
        "# data 77777777777777777\n",
        "def remove_extra_classes(base_path, keep_classes):\n",
        "    for split in ['train', 'test']:\n",
        "        split_path = os.path.join(base_path, split)\n",
        "        for cls in os.listdir(split_path):\n",
        "            cls_path = os.path.join(split_path, cls)\n",
        "            if cls not in keep_classes and os.path.isdir(cls_path):\n",
        "                print(f\"Removing: {cls_path}\")\n",
        "                shutil.rmtree(cls_path)\n",
        "\n",
        "# Only keep these\n",
        "target_classes = ['anger', 'happiness', 'neutral', 'sadness']\n",
        "remove_extra_classes('/content/fer2013_extracted/fer2013plus/fer2013', target_classes)\n"
      ],
      "metadata": {
        "colab": {
          "base_uri": "https://localhost:8080/"
        },
        "id": "g96FiBMnG0s6",
        "outputId": "cc64472e-fa5a-4e43-e2ca-da00442d9824"
      },
      "execution_count": 7,
      "outputs": [
        {
          "output_type": "stream",
          "name": "stdout",
          "text": [
            "Removing: /content/fer2013_extracted/fer2013plus/fer2013/train/fear\n",
            "Removing: /content/fer2013_extracted/fer2013plus/fer2013/train/surprise\n",
            "Removing: /content/fer2013_extracted/fer2013plus/fer2013/train/disgust\n",
            "Removing: /content/fer2013_extracted/fer2013plus/fer2013/train/contempt\n",
            "Removing: /content/fer2013_extracted/fer2013plus/fer2013/test/fear\n",
            "Removing: /content/fer2013_extracted/fer2013plus/fer2013/test/surprise\n",
            "Removing: /content/fer2013_extracted/fer2013plus/fer2013/test/disgust\n",
            "Removing: /content/fer2013_extracted/fer2013plus/fer2013/test/contempt\n"
          ]
        }
      ]
    },
    {
      "cell_type": "code",
      "source": [
        "build_csv('/content/fer2013_extracted/fer2013plus/fer2013/train', 'combined_data.csv')\n",
        "build_csv('/content/fer2013_extracted/fer2013plus/fer2013/test', 'temp_test.csv')\n",
        "\n",
        "# Merge both CSVs\n",
        "df_train = pd.read_csv('combined_data.csv')\n",
        "df_test = pd.read_csv('temp_test.csv')\n",
        "df_all = pd.concat([df_train, df_test], ignore_index=True)\n",
        "df_all.to_csv('full_fer_4class.csv', index=False)\n"
      ],
      "metadata": {
        "colab": {
          "base_uri": "https://localhost:8080/"
        },
        "id": "NnYp8NfhG4lO",
        "outputId": "20c2b989-2b66-4b9a-91f0-069b046f54b5"
      },
      "execution_count": 8,
      "outputs": [
        {
          "output_type": "stream",
          "name": "stdout",
          "text": [
            "Saved: combined_data.csv — 23816 entries\n",
            "Saved: temp_test.csv — 5924 entries\n"
          ]
        }
      ]
    },
    {
      "cell_type": "code",
      "source": [
        "import pandas as pd\n",
        "\n",
        "def downsample_csv(input_csv, output_csv, max_per_class=5000):\n",
        "    df = pd.read_csv(input_csv)\n",
        "\n",
        "    # Group by label and sample up to max_per_class rows per label\n",
        "    df_balanced = df.groupby('label').apply(\n",
        "        lambda x: x.sample(n=min(len(x), max_per_class), random_state=42)\n",
        "    )\n",
        "\n",
        "    df_balanced = df_balanced.reset_index(drop=True)\n",
        "    df_balanced.to_csv(output_csv, index=False)\n",
        "\n",
        "    print(f\"✅ Downsampled to max {max_per_class} per class.\")\n",
        "    print(df_balanced['label'].value_counts())\n",
        "    print(f\"📝 Saved to: {output_csv}\")\n",
        "\n",
        "    return df_balanced\n",
        "\n",
        "downsample_csv('full_fer_4class.csv', 'train_data_balanced.csv', max_per_class=5000)\n"
      ],
      "metadata": {
        "colab": {
          "base_uri": "https://localhost:8080/",
          "height": 617
        },
        "id": "YzsvkAN-G8UY",
        "outputId": "df6e33d9-8256-45c0-f60f-76c8d9b8689b"
      },
      "execution_count": 9,
      "outputs": [
        {
          "output_type": "stream",
          "name": "stdout",
          "text": [
            "✅ Downsampled to max 5000 per class.\n",
            "label\n",
            "happiness    5000\n",
            "neutral      5000\n",
            "sadness      4370\n",
            "anger        3110\n",
            "Name: count, dtype: int64\n",
            "📝 Saved to: train_data_balanced.csv\n"
          ]
        },
        {
          "output_type": "stream",
          "name": "stderr",
          "text": [
            "/tmp/ipython-input-9-3971415975.py:7: DeprecationWarning: DataFrameGroupBy.apply operated on the grouping columns. This behavior is deprecated, and in a future version of pandas the grouping columns will be excluded from the operation. Either pass `include_groups=False` to exclude the groupings or explicitly select the grouping columns after groupby to silence this warning.\n",
            "  df_balanced = df.groupby('label').apply(\n"
          ]
        },
        {
          "output_type": "execute_result",
          "data": {
            "text/plain": [
              "                                                    path    label\n",
              "0      /content/fer2013_extracted/fer2013plus/fer2013...    anger\n",
              "1      /content/fer2013_extracted/fer2013plus/fer2013...    anger\n",
              "2      /content/fer2013_extracted/fer2013plus/fer2013...    anger\n",
              "3      /content/fer2013_extracted/fer2013plus/fer2013...    anger\n",
              "4      /content/fer2013_extracted/fer2013plus/fer2013...    anger\n",
              "...                                                  ...      ...\n",
              "17475  /content/fer2013_extracted/fer2013plus/fer2013...  sadness\n",
              "17476  /content/fer2013_extracted/fer2013plus/fer2013...  sadness\n",
              "17477  /content/fer2013_extracted/fer2013plus/fer2013...  sadness\n",
              "17478  /content/fer2013_extracted/fer2013plus/fer2013...  sadness\n",
              "17479  /content/fer2013_extracted/fer2013plus/fer2013...  sadness\n",
              "\n",
              "[17480 rows x 2 columns]"
            ],
            "text/html": [
              "\n",
              "  <div id=\"df-8e918298-2173-441c-ad00-6350db00566f\" class=\"colab-df-container\">\n",
              "    <div>\n",
              "<style scoped>\n",
              "    .dataframe tbody tr th:only-of-type {\n",
              "        vertical-align: middle;\n",
              "    }\n",
              "\n",
              "    .dataframe tbody tr th {\n",
              "        vertical-align: top;\n",
              "    }\n",
              "\n",
              "    .dataframe thead th {\n",
              "        text-align: right;\n",
              "    }\n",
              "</style>\n",
              "<table border=\"1\" class=\"dataframe\">\n",
              "  <thead>\n",
              "    <tr style=\"text-align: right;\">\n",
              "      <th></th>\n",
              "      <th>path</th>\n",
              "      <th>label</th>\n",
              "    </tr>\n",
              "  </thead>\n",
              "  <tbody>\n",
              "    <tr>\n",
              "      <th>0</th>\n",
              "      <td>/content/fer2013_extracted/fer2013plus/fer2013...</td>\n",
              "      <td>anger</td>\n",
              "    </tr>\n",
              "    <tr>\n",
              "      <th>1</th>\n",
              "      <td>/content/fer2013_extracted/fer2013plus/fer2013...</td>\n",
              "      <td>anger</td>\n",
              "    </tr>\n",
              "    <tr>\n",
              "      <th>2</th>\n",
              "      <td>/content/fer2013_extracted/fer2013plus/fer2013...</td>\n",
              "      <td>anger</td>\n",
              "    </tr>\n",
              "    <tr>\n",
              "      <th>3</th>\n",
              "      <td>/content/fer2013_extracted/fer2013plus/fer2013...</td>\n",
              "      <td>anger</td>\n",
              "    </tr>\n",
              "    <tr>\n",
              "      <th>4</th>\n",
              "      <td>/content/fer2013_extracted/fer2013plus/fer2013...</td>\n",
              "      <td>anger</td>\n",
              "    </tr>\n",
              "    <tr>\n",
              "      <th>...</th>\n",
              "      <td>...</td>\n",
              "      <td>...</td>\n",
              "    </tr>\n",
              "    <tr>\n",
              "      <th>17475</th>\n",
              "      <td>/content/fer2013_extracted/fer2013plus/fer2013...</td>\n",
              "      <td>sadness</td>\n",
              "    </tr>\n",
              "    <tr>\n",
              "      <th>17476</th>\n",
              "      <td>/content/fer2013_extracted/fer2013plus/fer2013...</td>\n",
              "      <td>sadness</td>\n",
              "    </tr>\n",
              "    <tr>\n",
              "      <th>17477</th>\n",
              "      <td>/content/fer2013_extracted/fer2013plus/fer2013...</td>\n",
              "      <td>sadness</td>\n",
              "    </tr>\n",
              "    <tr>\n",
              "      <th>17478</th>\n",
              "      <td>/content/fer2013_extracted/fer2013plus/fer2013...</td>\n",
              "      <td>sadness</td>\n",
              "    </tr>\n",
              "    <tr>\n",
              "      <th>17479</th>\n",
              "      <td>/content/fer2013_extracted/fer2013plus/fer2013...</td>\n",
              "      <td>sadness</td>\n",
              "    </tr>\n",
              "  </tbody>\n",
              "</table>\n",
              "<p>17480 rows × 2 columns</p>\n",
              "</div>\n",
              "    <div class=\"colab-df-buttons\">\n",
              "\n",
              "  <div class=\"colab-df-container\">\n",
              "    <button class=\"colab-df-convert\" onclick=\"convertToInteractive('df-8e918298-2173-441c-ad00-6350db00566f')\"\n",
              "            title=\"Convert this dataframe to an interactive table.\"\n",
              "            style=\"display:none;\">\n",
              "\n",
              "  <svg xmlns=\"http://www.w3.org/2000/svg\" height=\"24px\" viewBox=\"0 -960 960 960\">\n",
              "    <path d=\"M120-120v-720h720v720H120Zm60-500h600v-160H180v160Zm220 220h160v-160H400v160Zm0 220h160v-160H400v160ZM180-400h160v-160H180v160Zm440 0h160v-160H620v160ZM180-180h160v-160H180v160Zm440 0h160v-160H620v160Z\"/>\n",
              "  </svg>\n",
              "    </button>\n",
              "\n",
              "  <style>\n",
              "    .colab-df-container {\n",
              "      display:flex;\n",
              "      gap: 12px;\n",
              "    }\n",
              "\n",
              "    .colab-df-convert {\n",
              "      background-color: #E8F0FE;\n",
              "      border: none;\n",
              "      border-radius: 50%;\n",
              "      cursor: pointer;\n",
              "      display: none;\n",
              "      fill: #1967D2;\n",
              "      height: 32px;\n",
              "      padding: 0 0 0 0;\n",
              "      width: 32px;\n",
              "    }\n",
              "\n",
              "    .colab-df-convert:hover {\n",
              "      background-color: #E2EBFA;\n",
              "      box-shadow: 0px 1px 2px rgba(60, 64, 67, 0.3), 0px 1px 3px 1px rgba(60, 64, 67, 0.15);\n",
              "      fill: #174EA6;\n",
              "    }\n",
              "\n",
              "    .colab-df-buttons div {\n",
              "      margin-bottom: 4px;\n",
              "    }\n",
              "\n",
              "    [theme=dark] .colab-df-convert {\n",
              "      background-color: #3B4455;\n",
              "      fill: #D2E3FC;\n",
              "    }\n",
              "\n",
              "    [theme=dark] .colab-df-convert:hover {\n",
              "      background-color: #434B5C;\n",
              "      box-shadow: 0px 1px 3px 1px rgba(0, 0, 0, 0.15);\n",
              "      filter: drop-shadow(0px 1px 2px rgba(0, 0, 0, 0.3));\n",
              "      fill: #FFFFFF;\n",
              "    }\n",
              "  </style>\n",
              "\n",
              "    <script>\n",
              "      const buttonEl =\n",
              "        document.querySelector('#df-8e918298-2173-441c-ad00-6350db00566f button.colab-df-convert');\n",
              "      buttonEl.style.display =\n",
              "        google.colab.kernel.accessAllowed ? 'block' : 'none';\n",
              "\n",
              "      async function convertToInteractive(key) {\n",
              "        const element = document.querySelector('#df-8e918298-2173-441c-ad00-6350db00566f');\n",
              "        const dataTable =\n",
              "          await google.colab.kernel.invokeFunction('convertToInteractive',\n",
              "                                                    [key], {});\n",
              "        if (!dataTable) return;\n",
              "\n",
              "        const docLinkHtml = 'Like what you see? Visit the ' +\n",
              "          '<a target=\"_blank\" href=https://colab.research.google.com/notebooks/data_table.ipynb>data table notebook</a>'\n",
              "          + ' to learn more about interactive tables.';\n",
              "        element.innerHTML = '';\n",
              "        dataTable['output_type'] = 'display_data';\n",
              "        await google.colab.output.renderOutput(dataTable, element);\n",
              "        const docLink = document.createElement('div');\n",
              "        docLink.innerHTML = docLinkHtml;\n",
              "        element.appendChild(docLink);\n",
              "      }\n",
              "    </script>\n",
              "  </div>\n",
              "\n",
              "\n",
              "    <div id=\"df-1ab600f3-1955-4400-b38d-8c9a237aff52\">\n",
              "      <button class=\"colab-df-quickchart\" onclick=\"quickchart('df-1ab600f3-1955-4400-b38d-8c9a237aff52')\"\n",
              "                title=\"Suggest charts\"\n",
              "                style=\"display:none;\">\n",
              "\n",
              "<svg xmlns=\"http://www.w3.org/2000/svg\" height=\"24px\"viewBox=\"0 0 24 24\"\n",
              "     width=\"24px\">\n",
              "    <g>\n",
              "        <path d=\"M19 3H5c-1.1 0-2 .9-2 2v14c0 1.1.9 2 2 2h14c1.1 0 2-.9 2-2V5c0-1.1-.9-2-2-2zM9 17H7v-7h2v7zm4 0h-2V7h2v10zm4 0h-2v-4h2v4z\"/>\n",
              "    </g>\n",
              "</svg>\n",
              "      </button>\n",
              "\n",
              "<style>\n",
              "  .colab-df-quickchart {\n",
              "      --bg-color: #E8F0FE;\n",
              "      --fill-color: #1967D2;\n",
              "      --hover-bg-color: #E2EBFA;\n",
              "      --hover-fill-color: #174EA6;\n",
              "      --disabled-fill-color: #AAA;\n",
              "      --disabled-bg-color: #DDD;\n",
              "  }\n",
              "\n",
              "  [theme=dark] .colab-df-quickchart {\n",
              "      --bg-color: #3B4455;\n",
              "      --fill-color: #D2E3FC;\n",
              "      --hover-bg-color: #434B5C;\n",
              "      --hover-fill-color: #FFFFFF;\n",
              "      --disabled-bg-color: #3B4455;\n",
              "      --disabled-fill-color: #666;\n",
              "  }\n",
              "\n",
              "  .colab-df-quickchart {\n",
              "    background-color: var(--bg-color);\n",
              "    border: none;\n",
              "    border-radius: 50%;\n",
              "    cursor: pointer;\n",
              "    display: none;\n",
              "    fill: var(--fill-color);\n",
              "    height: 32px;\n",
              "    padding: 0;\n",
              "    width: 32px;\n",
              "  }\n",
              "\n",
              "  .colab-df-quickchart:hover {\n",
              "    background-color: var(--hover-bg-color);\n",
              "    box-shadow: 0 1px 2px rgba(60, 64, 67, 0.3), 0 1px 3px 1px rgba(60, 64, 67, 0.15);\n",
              "    fill: var(--button-hover-fill-color);\n",
              "  }\n",
              "\n",
              "  .colab-df-quickchart-complete:disabled,\n",
              "  .colab-df-quickchart-complete:disabled:hover {\n",
              "    background-color: var(--disabled-bg-color);\n",
              "    fill: var(--disabled-fill-color);\n",
              "    box-shadow: none;\n",
              "  }\n",
              "\n",
              "  .colab-df-spinner {\n",
              "    border: 2px solid var(--fill-color);\n",
              "    border-color: transparent;\n",
              "    border-bottom-color: var(--fill-color);\n",
              "    animation:\n",
              "      spin 1s steps(1) infinite;\n",
              "  }\n",
              "\n",
              "  @keyframes spin {\n",
              "    0% {\n",
              "      border-color: transparent;\n",
              "      border-bottom-color: var(--fill-color);\n",
              "      border-left-color: var(--fill-color);\n",
              "    }\n",
              "    20% {\n",
              "      border-color: transparent;\n",
              "      border-left-color: var(--fill-color);\n",
              "      border-top-color: var(--fill-color);\n",
              "    }\n",
              "    30% {\n",
              "      border-color: transparent;\n",
              "      border-left-color: var(--fill-color);\n",
              "      border-top-color: var(--fill-color);\n",
              "      border-right-color: var(--fill-color);\n",
              "    }\n",
              "    40% {\n",
              "      border-color: transparent;\n",
              "      border-right-color: var(--fill-color);\n",
              "      border-top-color: var(--fill-color);\n",
              "    }\n",
              "    60% {\n",
              "      border-color: transparent;\n",
              "      border-right-color: var(--fill-color);\n",
              "    }\n",
              "    80% {\n",
              "      border-color: transparent;\n",
              "      border-right-color: var(--fill-color);\n",
              "      border-bottom-color: var(--fill-color);\n",
              "    }\n",
              "    90% {\n",
              "      border-color: transparent;\n",
              "      border-bottom-color: var(--fill-color);\n",
              "    }\n",
              "  }\n",
              "</style>\n",
              "\n",
              "      <script>\n",
              "        async function quickchart(key) {\n",
              "          const quickchartButtonEl =\n",
              "            document.querySelector('#' + key + ' button');\n",
              "          quickchartButtonEl.disabled = true;  // To prevent multiple clicks.\n",
              "          quickchartButtonEl.classList.add('colab-df-spinner');\n",
              "          try {\n",
              "            const charts = await google.colab.kernel.invokeFunction(\n",
              "                'suggestCharts', [key], {});\n",
              "          } catch (error) {\n",
              "            console.error('Error during call to suggestCharts:', error);\n",
              "          }\n",
              "          quickchartButtonEl.classList.remove('colab-df-spinner');\n",
              "          quickchartButtonEl.classList.add('colab-df-quickchart-complete');\n",
              "        }\n",
              "        (() => {\n",
              "          let quickchartButtonEl =\n",
              "            document.querySelector('#df-1ab600f3-1955-4400-b38d-8c9a237aff52 button');\n",
              "          quickchartButtonEl.style.display =\n",
              "            google.colab.kernel.accessAllowed ? 'block' : 'none';\n",
              "        })();\n",
              "      </script>\n",
              "    </div>\n",
              "\n",
              "    </div>\n",
              "  </div>\n"
            ],
            "application/vnd.google.colaboratory.intrinsic+json": {
              "type": "dataframe",
              "summary": "{\n  \"name\": \"downsample_csv('full_fer_4class\",\n  \"rows\": 17480,\n  \"fields\": [\n    {\n      \"column\": \"path\",\n      \"properties\": {\n        \"dtype\": \"string\",\n        \"num_unique_values\": 17480,\n        \"samples\": [\n          \"/content/fer2013_extracted/fer2013plus/fer2013/test/neutral/fer0032953.png\",\n          \"/content/fer2013_extracted/fer2013plus/fer2013/train/sadness/fer0003851.png\",\n          \"/content/fer2013_extracted/fer2013plus/fer2013/train/anger/fer0021968.png\"\n        ],\n        \"semantic_type\": \"\",\n        \"description\": \"\"\n      }\n    },\n    {\n      \"column\": \"label\",\n      \"properties\": {\n        \"dtype\": \"category\",\n        \"num_unique_values\": 4,\n        \"samples\": [\n          \"happiness\",\n          \"sadness\",\n          \"anger\"\n        ],\n        \"semantic_type\": \"\",\n        \"description\": \"\"\n      }\n    }\n  ]\n}"
            }
          },
          "metadata": {},
          "execution_count": 9
        }
      ]
    },
    {
      "cell_type": "code",
      "source": [
        "# toooo minnnnnn\n",
        "def downsample_to_min_class(input_csv, output_csv):\n",
        "    import pandas as pd\n",
        "\n",
        "    df = pd.read_csv(input_csv)\n",
        "    min_count = df['label'].value_counts().min()\n",
        "    print(f\"📉 Downsampling each class to {min_count} samples\")\n",
        "\n",
        "    df_balanced = df.groupby('label').apply(lambda x: x.sample(n=min_count, random_state=42))\n",
        "    df_balanced = df_balanced.reset_index(drop=True)\n",
        "    df_balanced.to_csv(output_csv, index=False)\n",
        "\n",
        "    print(f\"✅ Saved balanced dataset to {output_csv} — total: {len(df_balanced)} rows\")\n",
        "\n",
        "    return df_balanced\n",
        "\n",
        "# Example usage\n",
        "train_balanced = downsample_to_min_class('full_fer_4class.csv', 'train_data_balanced.csv')\n"
      ],
      "metadata": {
        "colab": {
          "base_uri": "https://localhost:8080/"
        },
        "id": "HDs2FA3nG_wz",
        "outputId": "c6f29623-00bc-4f06-95ab-30aded5b7e9f"
      },
      "execution_count": 10,
      "outputs": [
        {
          "output_type": "stream",
          "name": "stdout",
          "text": [
            "📉 Downsampling each class to 3110 samples\n",
            "✅ Saved balanced dataset to train_data_balanced.csv — total: 12440 rows\n"
          ]
        },
        {
          "output_type": "stream",
          "name": "stderr",
          "text": [
            "/tmp/ipython-input-10-1737254372.py:9: DeprecationWarning: DataFrameGroupBy.apply operated on the grouping columns. This behavior is deprecated, and in a future version of pandas the grouping columns will be excluded from the operation. Either pass `include_groups=False` to exclude the groupings or explicitly select the grouping columns after groupby to silence this warning.\n",
            "  df_balanced = df.groupby('label').apply(lambda x: x.sample(n=min_count, random_state=42))\n"
          ]
        }
      ]
    },
    {
      "cell_type": "code",
      "source": [
        "import cv2\n",
        "# Detect blurry images using Laplacian variance\n",
        "def is_blurry(img, threshold=100):\n",
        "    return cv2.Laplacian(img, cv2.CV_64F).var() < threshold\n",
        "\n",
        "# Detect low contrast images using standard deviation\n",
        "def is_low_contrast(img, threshold=20):\n",
        "    return img.std() < threshold\n"
      ],
      "metadata": {
        "id": "rh-qkR-tHDdL"
      },
      "execution_count": 11,
      "outputs": []
    },
    {
      "cell_type": "code",
      "source": [
        "import cv2\n",
        "import numpy as np\n",
        "from tensorflow.keras.utils import to_categorical\n",
        "from sklearn.preprocessing import LabelEncoder\n",
        "\n",
        "def load_images_from_csv(csv_path, img_size=(48, 48)):\n",
        "    df = pd.read_csv(csv_path)\n",
        "    face_cascade = cv2.CascadeClassifier(cv2.data.haarcascades + 'haarcascade_frontalface_default.xml')\n",
        "\n",
        "    images, labels = [], []\n",
        "    skipped = 0\n",
        "    for _, row in df.iterrows():\n",
        "        img = cv2.imread(row['path'], cv2.IMREAD_GRAYSCALE)\n",
        "        if img is None:\n",
        "            continue\n",
        "\n",
        "        # Quality filtering\n",
        "        if is_blurry(img) or is_low_contrast(img):\n",
        "            skipped += 1\n",
        "            continue\n",
        "        img = cv2.resize(img, img_size)\n",
        "        images.append(img)\n",
        "        labels.append(row['label'])\n",
        "\n",
        "    # Reshape and normalize\n",
        "    X = np.array(images).reshape(-1, 48, 48, 1).astype('float32') / 255.0\n",
        "\n",
        "\n",
        "    # Encode labels\n",
        "    le = LabelEncoder()\n",
        "    y_int = le.fit_transform(labels)\n",
        "    y = to_categorical(y_int)\n",
        "\n",
        "    return X, y, le\n",
        "\n",
        "# Load the data\n",
        "X, y, label_encoder = load_images_from_csv('train_data_balanced.csv')\n",
        "print(\"✅ Images loaded:\", X.shape)\n",
        "print(\"✅ Labels shape:\", y.shape)\n",
        "print(\"🧾 Classes:\", label_encoder.classes_)\n"
      ],
      "metadata": {
        "colab": {
          "base_uri": "https://localhost:8080/"
        },
        "id": "GzsrMigBHG2d",
        "outputId": "723dcec5-b55b-406e-e1b2-fe0969b46842"
      },
      "execution_count": 12,
      "outputs": [
        {
          "output_type": "stream",
          "name": "stdout",
          "text": [
            "✅ Images loaded: (12413, 48, 48, 1)\n",
            "✅ Labels shape: (12413, 4)\n",
            "🧾 Classes: ['anger' 'happiness' 'neutral' 'sadness']\n"
          ]
        }
      ]
    },
    {
      "cell_type": "code",
      "source": [
        "import seaborn as sns\n",
        "import matplotlib.pyplot as plt\n",
        "\n",
        "df_balanced = pd.read_csv('full_fer_4class.csv')\n",
        "plt.figure(figsize=(6, 4))\n",
        "sns.countplot(data=df_balanced, x='label', order=sorted(df_balanced['label'].unique()))\n",
        "plt.title(\"Sample Count per Class\")\n",
        "plt.xlabel(\"Emotion\")\n",
        "plt.ylabel(\"Count\")\n",
        "plt.tight_layout()\n",
        "plt.show()\n"
      ],
      "metadata": {
        "colab": {
          "base_uri": "https://localhost:8080/",
          "height": 407
        },
        "id": "BobxLC6THKO6",
        "outputId": "e13a3332-7687-4177-9f93-49833388e22d"
      },
      "execution_count": 13,
      "outputs": [
        {
          "output_type": "display_data",
          "data": {
            "text/plain": [
              "<Figure size 600x400 with 1 Axes>"
            ],
            "image/png": "[encoded data removed]"
          },
          "metadata": {}
        }
      ]
    },
    {
      "cell_type": "code",
      "source": [
        "import seaborn as sns\n",
        "import matplotlib.pyplot as plt\n",
        "\n",
        "df_balanced = pd.read_csv('train_data_balanced.csv')\n",
        "plt.figure(figsize=(6, 4))\n",
        "sns.countplot(data=df_balanced, x='label', order=sorted(df_balanced['label'].unique()))\n",
        "plt.title(\"Sample Count per Class (Balanced)\")\n",
        "plt.xlabel(\"Emotion\")\n",
        "plt.ylabel(\"Count\")\n",
        "plt.tight_layout()\n",
        "plt.show()\n"
      ],
      "metadata": {
        "colab": {
          "base_uri": "https://localhost:8080/",
          "height": 407
        },
        "id": "RFiX_0iNHQw0",
        "outputId": "ffbe7771-3e64-4a75-8110-7bac05edc1f1"
      },
      "execution_count": 14,
      "outputs": [
        {
          "output_type": "display_data",
          "data": {
            "text/plain": [
              "<Figure size 600x400 with 1 Axes>"
            ],
            "image/png": "[encoded data removed]"
          },
          "metadata": {}
        }
      ]
    },
    {
      "cell_type": "code",
      "source": [
        "from sklearn.model_selection import train_test_split\n",
        "\n",
        "X_train, X_val, y_train, y_val = train_test_split(\n",
        "    X, y, test_size=0.2, stratify=y.argmax(axis=1), random_state=42)\n",
        "\n",
        "print(f\"🟩 Training samples: {len(X_train)}, Validation samples: {len(X_val)}\")\n"
      ],
      "metadata": {
        "colab": {
          "base_uri": "https://localhost:8080/"
        },
        "id": "dA-5mdwpHUJQ",
        "outputId": "9bc883ec-0920-4ffb-988d-e621fde8b5a7"
      },
      "execution_count": 15,
      "outputs": [
        {
          "output_type": "stream",
          "name": "stdout",
          "text": [
            "🟩 Training samples: 9930, Validation samples: 2483\n"
          ]
        }
      ]
    },
    {
      "cell_type": "code",
      "source": [
        "from tensorflow.keras.preprocessing.image import ImageDataGenerator\n",
        "\n",
        "# Data augmentation generator\n",
        "datagen = ImageDataGenerator(\n",
        "    rotation_range=15,\n",
        "    width_shift_range=0.15,\n",
        "    height_shift_range=0.15,\n",
        "    zoom_range=0.1,\n",
        "    horizontal_flip=True\n",
        ")\n"
      ],
      "metadata": {
        "id": "CXvzq2inHXkT"
      },
      "execution_count": 16,
      "outputs": []
    },
    {
      "cell_type": "code",
      "source": [
        "train_generator = datagen.flow(X_train, y_train, batch_size=16,shuffle=True)\n",
        "val_generator = datagen.flow(X_val, y_val, batch_size=16,shuffle=True)"
      ],
      "metadata": {
        "id": "lh3ej0bPHaR2"
      },
      "execution_count": 17,
      "outputs": []
    },
    {
      "cell_type": "code",
      "source": [
        "\n",
        "from tensorflow.keras.losses import CategoricalCrossentropy\n",
        "import keras_tuner as kt\n",
        "from tensorflow.keras.models import Sequential\n",
        "from tensorflow.keras.layers import Conv2D, MaxPooling2D, Flatten, Dense, Dropout, BatchNormalization, GlobalAveragePooling2D\n",
        "\n",
        "def build_model(hp):\n",
        "    model = Sequential()\n",
        "\n",
        "    # First Conv Block\n",
        "    model.add(Conv2D(\n",
        "        filters=hp.Choice('conv1_filters', [32,64]),\n",
        "        kernel_size=3,\n",
        "        activation='relu',\n",
        "        padding='same',\n",
        "        input_shape=(48, 48, 1)))\n",
        "    model.add(BatchNormalization())\n",
        "    model.add(MaxPooling2D((2, 2)))\n",
        "    model.add(Dropout(0.2))\n",
        "\n",
        "    # Second Conv Block\n",
        "    model.add(Conv2D(hp.Choice('conv2_filters', [32,64, 128]), (3,3), activation='relu', padding='same'))\n",
        "    model.add(BatchNormalization())\n",
        "    model.add(MaxPooling2D((2, 2)))\n",
        "    model.add(Dropout(0.2))\n",
        "    # model.add(Dropout(hp.Float('dropout1', 0.1, 0.5, step=0.1)))\n",
        "\n",
        "    # Third Conv Block\n",
        "    model.add(Conv2D(hp.Choice('conv3_filters', [ 128,256]), (3, 3), activation='relu', padding='same'))\n",
        "    model.add(BatchNormalization())\n",
        "    model.add(MaxPooling2D((2, 2)))\n",
        "    model.add(Dropout(0.2))\n",
        "\n",
        "    # Fourth Conv Block\n",
        "    model.add(Conv2D(hp.Choice('conv4_filters', [128,256]), (3, 3), activation='relu', padding='same'))\n",
        "    model.add(BatchNormalization())\n",
        "    model.add(MaxPooling2D((2, 2)))\n",
        "    model.add(Dropout(0.2))\n",
        "\n",
        "    # Fifth Conv Block\n",
        "    model.add(Conv2D(hp.Choice('conv5_filters', [128,256]), (3, 3), activation='relu', padding='same'))\n",
        "    model.add(BatchNormalization())\n",
        "    model.add(MaxPooling2D((2, 2)))\n",
        "    model.add(Dropout(0.2))\n",
        "\n",
        "    # Fully Connected\n",
        "    model.add(Flatten())\n",
        "    model.add(Dense(256, activation='relu'))\n",
        "    model.add(Dropout(0.2))\n",
        "    model.add(Dense(4, activation='softmax'))  # 4 classes\n",
        "\n",
        "    model.compile(\n",
        "        optimizer=Adam(learning_rate=0.001),\n",
        "        loss=CategoricalCrossentropy(label_smoothing=0.1),\n",
        "        metrics=['accuracy'])\n",
        "\n",
        "    return model\n"
      ],
      "metadata": {
        "id": "MHcet7TRHdes"
      },
      "execution_count": 18,
      "outputs": []
    },
    {
      "cell_type": "code",
      "source": [
        "from sklearn.utils.class_weight import compute_class_weight\n",
        "from tensorflow.keras.callbacks import EarlyStopping, ReduceLROnPlateau\n",
        "import tensorflow as tf\n",
        "weights = compute_class_weight(class_weight='balanced',\n",
        "                                classes=np.unique(y_train.argmax(axis=1)),\n",
        "                                y=y_train.argmax(axis=1))\n",
        "class_weight_dict = dict(enumerate(weights))\n",
        "tuner = kt.BayesianOptimization(\n",
        "    hypermodel=build_model,\n",
        "    objective='val_accuracy',\n",
        "    max_trials=10,\n",
        "    executions_per_trial=1,\n",
        "    directory='/content/drive/MyDrive/keras_tuner_logs',\n",
        "    project_name='fer2013_4class'\n",
        ")\n",
        "\n",
        "tuner.search(train_generator,\n",
        "             epochs=100,\n",
        "             validation_data=val_generator,\n",
        "             callbacks=[tf.keras.callbacks.EarlyStopping(patience=6),\n",
        "                        ReduceLROnPlateau(monitor='val_loss', factor=0.5, patience=3)],\n",
        "             batch_size=16,\n",
        "             class_weight=class_weight_dict)\n",
        "tuner.results_summary()"
      ],
      "metadata": {
        "colab": {
          "base_uri": "https://localhost:8080/"
        },
        "id": "V4amQHhIHlsb",
        "outputId": "926cd971-fa75-45c7-ca8a-a7a8fa3403a3"
      },
      "execution_count": 19,
      "outputs": [
        {
          "output_type": "stream",
          "name": "stdout",
          "text": [
            "Trial 10 Complete [00h 10m 35s]\n",
            "val_accuracy: 0.7962142825126648\n",
            "\n",
            "Best val_accuracy So Far: 0.7962142825126648\n",
            "Total elapsed time: 01h 20m 00s\n",
            "Results summary\n",
            "Results in /content/drive/MyDrive/keras_tuner_logs/fer2013_4class\n",
            "Showing 10 best trials\n",
            "Objective(name=\"val_accuracy\", direction=\"max\")\n",
            "\n",
            "Trial 09 summary\n",
            "Hyperparameters:\n",
            "conv1_filters: 32\n",
            "conv2_filters: 64\n",
            "conv3_filters: 256\n",
            "conv4_filters: 256\n",
            "conv5_filters: 128\n",
            "Score: 0.7962142825126648\n",
            "\n",
            "Trial 06 summary\n",
            "Hyperparameters:\n",
            "conv1_filters: 32\n",
            "conv2_filters: 128\n",
            "conv3_filters: 256\n",
            "conv4_filters: 256\n",
            "conv5_filters: 128\n",
            "Score: 0.7829238772392273\n",
            "\n",
            "Trial 07 summary\n",
            "Hyperparameters:\n",
            "conv1_filters: 32\n",
            "conv2_filters: 64\n",
            "conv3_filters: 128\n",
            "conv4_filters: 256\n",
            "conv5_filters: 128\n",
            "Score: 0.7805074453353882\n",
            "\n",
            "Trial 01 summary\n",
            "Hyperparameters:\n",
            "conv1_filters: 64\n",
            "conv2_filters: 32\n",
            "conv3_filters: 256\n",
            "conv4_filters: 128\n",
            "conv5_filters: 256\n",
            "Score: 0.7784937620162964\n",
            "\n",
            "Trial 00 summary\n",
            "Hyperparameters:\n",
            "conv1_filters: 32\n",
            "conv2_filters: 64\n",
            "conv3_filters: 256\n",
            "conv4_filters: 128\n",
            "conv5_filters: 128\n",
            "Score: 0.7776882648468018\n",
            "\n",
            "Trial 08 summary\n",
            "Hyperparameters:\n",
            "conv1_filters: 32\n",
            "conv2_filters: 128\n",
            "conv3_filters: 128\n",
            "conv4_filters: 256\n",
            "conv5_filters: 128\n",
            "Score: 0.7764800786972046\n",
            "\n",
            "Trial 05 summary\n",
            "Hyperparameters:\n",
            "conv1_filters: 32\n",
            "conv2_filters: 64\n",
            "conv3_filters: 128\n",
            "conv4_filters: 256\n",
            "conv5_filters: 256\n",
            "Score: 0.7760773301124573\n",
            "\n",
            "Trial 03 summary\n",
            "Hyperparameters:\n",
            "conv1_filters: 32\n",
            "conv2_filters: 32\n",
            "conv3_filters: 256\n",
            "conv4_filters: 128\n",
            "conv5_filters: 256\n",
            "Score: 0.7724526524543762\n",
            "\n",
            "Trial 04 summary\n",
            "Hyperparameters:\n",
            "conv1_filters: 64\n",
            "conv2_filters: 128\n",
            "conv3_filters: 128\n",
            "conv4_filters: 128\n",
            "conv5_filters: 256\n",
            "Score: 0.7720499634742737\n",
            "\n",
            "Trial 02 summary\n",
            "Hyperparameters:\n",
            "conv1_filters: 32\n",
            "conv2_filters: 32\n",
            "conv3_filters: 128\n",
            "conv4_filters: 256\n",
            "conv5_filters: 256\n",
            "Score: 0.767619788646698\n"
          ]
        }
      ]
    },
    {
      "cell_type": "code",
      "source": [
        "best_model = tuner.get_best_models(num_models=1)[0]\n",
        "best_hp = tuner.get_best_hyperparameters(num_trials=1)[0]\n",
        "model = tuner.hypermodel.build(best_hp)\n",
        "\n",
        "history = model.fit(train_generator,\n",
        "             epochs=100,\n",
        "             validation_data=val_generator,\n",
        "             callbacks=[tf.keras.callbacks.EarlyStopping(patience=6),\n",
        "                        ReduceLROnPlateau(monitor='val_loss', factor=0.5, patience=3)],\n",
        "             batch_size=16,\n",
        "             class_weight=class_weight_dict)\n"
      ],
      "metadata": {
        "colab": {
          "base_uri": "https://localhost:8080/"
        },
        "id": "EUoVEOQHHsrh",
        "outputId": "cd66ef92-1983-48d8-f4db-0d49332a6088"
      },
      "execution_count": 20,
      "outputs": [
        {
          "output_type": "stream",
          "name": "stderr",
          "text": [
            "/usr/local/lib/python3.11/dist-packages/keras/src/saving/saving_lib.py:757: UserWarning: Skipping variable loading for optimizer 'adam', because it has 2 variables whereas the saved optimizer has 50 variables. \n",
            "  saveable.load_own_variables(weights_store.get(inner_path))\n"
          ]
        },
        {
          "output_type": "stream",
          "name": "stdout",
          "text": [
            "Epoch 1/100\n",
            "\u001b[1m621/621\u001b[0m \u001b[32m━━━━━━━━━━━━━━━━━━━━\u001b[0m\u001b[37m\u001b[0m \u001b[1m28s\u001b[0m 26ms/step - accuracy: 0.2868 - loss: 1.5666 - val_accuracy: 0.2867 - val_loss: 1.4488 - learning_rate: 0.0010\n",
            "Epoch 2/100\n",
            "\u001b[1m621/621\u001b[0m \u001b[32m━━━━━━━━━━━━━━━━━━━━\u001b[0m\u001b[37m\u001b[0m \u001b[1m10s\u001b[0m 15ms/step - accuracy: 0.3360 - loss: 1.3636 - val_accuracy: 0.3621 - val_loss: 1.3324 - learning_rate: 0.0010\n",
            "Epoch 3/100\n",
            "\u001b[1m621/621\u001b[0m \u001b[32m━━━━━━━━━━━━━━━━━━━━\u001b[0m\u001b[37m\u001b[0m \u001b[1m9s\u001b[0m 15ms/step - accuracy: 0.4075 - loss: 1.3009 - val_accuracy: 0.4543 - val_loss: 1.2341 - learning_rate: 0.0010\n",
            "Epoch 4/100\n",
            "\u001b[1m621/621\u001b[0m \u001b[32m━━━━━━━━━━━━━━━━━━━━\u001b[0m\u001b[37m\u001b[0m \u001b[1m10s\u001b[0m 15ms/step - accuracy: 0.4772 - loss: 1.2039 - val_accuracy: 0.4567 - val_loss: 1.2758 - learning_rate: 0.0010\n",
            "Epoch 5/100\n",
            "\u001b[1m621/621\u001b[0m \u001b[32m━━━━━━━━━━━━━━━━━━━━\u001b[0m\u001b[37m\u001b[0m \u001b[1m9s\u001b[0m 14ms/step - accuracy: 0.5357 - loss: 1.1390 - val_accuracy: 0.5042 - val_loss: 1.2195 - learning_rate: 0.0010\n",
            "Epoch 6/100\n",
            "\u001b[1m621/621\u001b[0m \u001b[32m━━━━━━━━━━━━━━━━━━━━\u001b[0m\u001b[37m\u001b[0m \u001b[1m9s\u001b[0m 15ms/step - accuracy: 0.5722 - loss: 1.0848 - val_accuracy: 0.5473 - val_loss: 1.1072 - learning_rate: 0.0010\n",
            "Epoch 7/100\n",
            "\u001b[1m621/621\u001b[0m \u001b[32m━━━━━━━━━━━━━━━━━━━━\u001b[0m\u001b[37m\u001b[0m \u001b[1m9s\u001b[0m 15ms/step - accuracy: 0.6017 - loss: 1.0415 - val_accuracy: 0.5912 - val_loss: 1.0429 - learning_rate: 0.0010\n",
            "Epoch 8/100\n",
            "\u001b[1m621/621\u001b[0m \u001b[32m━━━━━━━━━━━━━━━━━━━━\u001b[0m\u001b[37m\u001b[0m \u001b[1m10s\u001b[0m 15ms/step - accuracy: 0.6257 - loss: 1.0090 - val_accuracy: 0.6408 - val_loss: 0.9727 - learning_rate: 0.0010\n",
            "Epoch 9/100\n",
            "\u001b[1m621/621\u001b[0m \u001b[32m━━━━━━━━━━━━━━━━━━━━\u001b[0m\u001b[37m\u001b[0m \u001b[1m10s\u001b[0m 15ms/step - accuracy: 0.6308 - loss: 0.9933 - val_accuracy: 0.6226 - val_loss: 1.0186 - learning_rate: 0.0010\n",
            "Epoch 10/100\n",
            "\u001b[1m621/621\u001b[0m \u001b[32m━━━━━━━━━━━━━━━━━━━━\u001b[0m\u001b[37m\u001b[0m \u001b[1m11s\u001b[0m 17ms/step - accuracy: 0.6305 - loss: 0.9885 - val_accuracy: 0.6536 - val_loss: 0.9576 - learning_rate: 0.0010\n",
            "Epoch 11/100\n",
            "\u001b[1m621/621\u001b[0m \u001b[32m━━━━━━━━━━━━━━━━━━━━\u001b[0m\u001b[37m\u001b[0m \u001b[1m9s\u001b[0m 15ms/step - accuracy: 0.6648 - loss: 0.9491 - val_accuracy: 0.6577 - val_loss: 0.9455 - learning_rate: 0.0010\n",
            "Epoch 12/100\n",
            "\u001b[1m621/621\u001b[0m \u001b[32m━━━━━━━━━━━━━━━━━━━━\u001b[0m\u001b[37m\u001b[0m \u001b[1m9s\u001b[0m 15ms/step - accuracy: 0.6730 - loss: 0.9449 - val_accuracy: 0.5425 - val_loss: 1.1788 - learning_rate: 0.0010\n",
            "Epoch 13/100\n",
            "\u001b[1m621/621\u001b[0m \u001b[32m━━━━━━━━━━━━━━━━━━━━\u001b[0m\u001b[37m\u001b[0m \u001b[1m9s\u001b[0m 15ms/step - accuracy: 0.6787 - loss: 0.9269 - val_accuracy: 0.6710 - val_loss: 0.9345 - learning_rate: 0.0010\n",
            "Epoch 14/100\n",
            "\u001b[1m621/621\u001b[0m \u001b[32m━━━━━━━━━━━━━━━━━━━━\u001b[0m\u001b[37m\u001b[0m \u001b[1m9s\u001b[0m 15ms/step - accuracy: 0.6799 - loss: 0.9247 - val_accuracy: 0.6259 - val_loss: 0.9985 - learning_rate: 0.0010\n",
            "Epoch 15/100\n",
            "\u001b[1m621/621\u001b[0m \u001b[32m━━━━━━━━━━━━━━━━━━━━\u001b[0m\u001b[37m\u001b[0m \u001b[1m9s\u001b[0m 15ms/step - accuracy: 0.6810 - loss: 0.9264 - val_accuracy: 0.6895 - val_loss: 0.8971 - learning_rate: 0.0010\n",
            "Epoch 16/100\n",
            "\u001b[1m621/621\u001b[0m \u001b[32m━━━━━━━━━━━━━━━━━━━━\u001b[0m\u001b[37m\u001b[0m \u001b[1m10s\u001b[0m 15ms/step - accuracy: 0.6862 - loss: 0.9159 - val_accuracy: 0.6259 - val_loss: 1.0216 - learning_rate: 0.0010\n",
            "Epoch 17/100\n",
            "\u001b[1m621/621\u001b[0m \u001b[32m━━━━━━━━━━━━━━━━━━━━\u001b[0m\u001b[37m\u001b[0m \u001b[1m9s\u001b[0m 14ms/step - accuracy: 0.6982 - loss: 0.8996 - val_accuracy: 0.7173 - val_loss: 0.8594 - learning_rate: 0.0010\n",
            "Epoch 18/100\n",
            "\u001b[1m621/621\u001b[0m \u001b[32m━━━━━━━━━━━━━━━━━━━━\u001b[0m\u001b[37m\u001b[0m \u001b[1m9s\u001b[0m 15ms/step - accuracy: 0.6945 - loss: 0.8951 - val_accuracy: 0.6706 - val_loss: 0.9421 - learning_rate: 0.0010\n",
            "Epoch 19/100\n",
            "\u001b[1m621/621\u001b[0m \u001b[32m━━━━━━━━━━━━━━━━━━━━\u001b[0m\u001b[37m\u001b[0m \u001b[1m9s\u001b[0m 15ms/step - accuracy: 0.7096 - loss: 0.8853 - val_accuracy: 0.6589 - val_loss: 0.9520 - learning_rate: 0.0010\n",
            "Epoch 20/100\n",
            "\u001b[1m621/621\u001b[0m \u001b[32m━━━━━━━━━━━━━━━━━━━━\u001b[0m\u001b[37m\u001b[0m \u001b[1m10s\u001b[0m 15ms/step - accuracy: 0.7002 - loss: 0.8915 - val_accuracy: 0.6826 - val_loss: 0.9112 - learning_rate: 0.0010\n",
            "Epoch 21/100\n",
            "\u001b[1m621/621\u001b[0m \u001b[32m━━━━━━━━━━━━━━━━━━━━\u001b[0m\u001b[37m\u001b[0m \u001b[1m10s\u001b[0m 15ms/step - accuracy: 0.7162 - loss: 0.8578 - val_accuracy: 0.7277 - val_loss: 0.8279 - learning_rate: 5.0000e-04\n",
            "Epoch 22/100\n",
            "\u001b[1m621/621\u001b[0m \u001b[32m━━━━━━━━━━━━━━━━━━━━\u001b[0m\u001b[37m\u001b[0m \u001b[1m9s\u001b[0m 14ms/step - accuracy: 0.7463 - loss: 0.8212 - val_accuracy: 0.7370 - val_loss: 0.8187 - learning_rate: 5.0000e-04\n",
            "Epoch 23/100\n",
            "\u001b[1m621/621\u001b[0m \u001b[32m━━━━━━━━━━━━━━━━━━━━\u001b[0m\u001b[37m\u001b[0m \u001b[1m10s\u001b[0m 16ms/step - accuracy: 0.7361 - loss: 0.8277 - val_accuracy: 0.7104 - val_loss: 0.8602 - learning_rate: 5.0000e-04\n",
            "Epoch 24/100\n",
            "\u001b[1m621/621\u001b[0m \u001b[32m━━━━━━━━━━━━━━━━━━━━\u001b[0m\u001b[37m\u001b[0m \u001b[1m10s\u001b[0m 15ms/step - accuracy: 0.7368 - loss: 0.8257 - val_accuracy: 0.7141 - val_loss: 0.8592 - learning_rate: 5.0000e-04\n",
            "Epoch 25/100\n",
            "\u001b[1m621/621\u001b[0m \u001b[32m━━━━━━━━━━━━━━━━━━━━\u001b[0m\u001b[37m\u001b[0m \u001b[1m9s\u001b[0m 15ms/step - accuracy: 0.7441 - loss: 0.8214 - val_accuracy: 0.7225 - val_loss: 0.8356 - learning_rate: 5.0000e-04\n",
            "Epoch 26/100\n",
            "\u001b[1m621/621\u001b[0m \u001b[32m━━━━━━━━━━━━━━━━━━━━\u001b[0m\u001b[37m\u001b[0m \u001b[1m8s\u001b[0m 14ms/step - accuracy: 0.7400 - loss: 0.8170 - val_accuracy: 0.7539 - val_loss: 0.7940 - learning_rate: 2.5000e-04\n",
            "Epoch 27/100\n",
            "\u001b[1m621/621\u001b[0m \u001b[32m━━━━━━━━━━━━━━━━━━━━\u001b[0m\u001b[37m\u001b[0m \u001b[1m11s\u001b[0m 17ms/step - accuracy: 0.7507 - loss: 0.7965 - val_accuracy: 0.7729 - val_loss: 0.7658 - learning_rate: 2.5000e-04\n",
            "Epoch 28/100\n",
            "\u001b[1m621/621\u001b[0m \u001b[32m━━━━━━━━━━━━━━━━━━━━\u001b[0m\u001b[37m\u001b[0m \u001b[1m9s\u001b[0m 15ms/step - accuracy: 0.7570 - loss: 0.7959 - val_accuracy: 0.7640 - val_loss: 0.7785 - learning_rate: 2.5000e-04\n",
            "Epoch 29/100\n",
            "\u001b[1m621/621\u001b[0m \u001b[32m━━━━━━━━━━━━━━━━━━━━\u001b[0m\u001b[37m\u001b[0m \u001b[1m10s\u001b[0m 15ms/step - accuracy: 0.7663 - loss: 0.7817 - val_accuracy: 0.7668 - val_loss: 0.7840 - learning_rate: 2.5000e-04\n",
            "Epoch 30/100\n",
            "\u001b[1m621/621\u001b[0m \u001b[32m━━━━━━━━━━━━━━━━━━━━\u001b[0m\u001b[37m\u001b[0m \u001b[1m8s\u001b[0m 14ms/step - accuracy: 0.7638 - loss: 0.7943 - val_accuracy: 0.7652 - val_loss: 0.7726 - learning_rate: 2.5000e-04\n",
            "Epoch 31/100\n",
            "\u001b[1m621/621\u001b[0m \u001b[32m━━━━━━━━━━━━━━━━━━━━\u001b[0m\u001b[37m\u001b[0m \u001b[1m9s\u001b[0m 15ms/step - accuracy: 0.7648 - loss: 0.7694 - val_accuracy: 0.7551 - val_loss: 0.8040 - learning_rate: 1.2500e-04\n",
            "Epoch 32/100\n",
            "\u001b[1m621/621\u001b[0m \u001b[32m━━━━━━━━━━━━━━━━━━━━\u001b[0m\u001b[37m\u001b[0m \u001b[1m11s\u001b[0m 17ms/step - accuracy: 0.7751 - loss: 0.7715 - val_accuracy: 0.7628 - val_loss: 0.7807 - learning_rate: 1.2500e-04\n",
            "Epoch 33/100\n",
            "\u001b[1m621/621\u001b[0m \u001b[32m━━━━━━━━━━━━━━━━━━━━\u001b[0m\u001b[37m\u001b[0m \u001b[1m9s\u001b[0m 15ms/step - accuracy: 0.7726 - loss: 0.7616 - val_accuracy: 0.7704 - val_loss: 0.7735 - learning_rate: 1.2500e-04\n"
          ]
        }
      ]
    },
    {
      "cell_type": "code",
      "source": [
        "val_loss, val_acc = model.evaluate(X_val, y_val)\n",
        "print(f\"📊 Final Validation Accuracy: {val_acc:.4f}\")\n"
      ],
      "metadata": {
        "colab": {
          "base_uri": "https://localhost:8080/"
        },
        "id": "hDas-iiNHzbk",
        "outputId": "76591221-1c9d-4255-d9a2-4bf8e34fb58f"
      },
      "execution_count": 21,
      "outputs": [
        {
          "output_type": "stream",
          "name": "stdout",
          "text": [
            "\u001b[1m78/78\u001b[0m \u001b[32m━━━━━━━━━━━━━━━━━━━━\u001b[0m\u001b[37m\u001b[0m \u001b[1m2s\u001b[0m 13ms/step - accuracy: 0.7970 - loss: 0.7141\n",
            "📊 Final Validation Accuracy: 0.7845\n"
          ]
        }
      ]
    },
    {
      "cell_type": "code",
      "source": [
        "from sklearn.metrics import confusion_matrix\n",
        "import seaborn as sns\n",
        "import matplotlib.pyplot as plt\n",
        "\n",
        "y_pred = model.predict(X_val).argmax(axis=1)\n",
        "y_true = y_val.argmax(axis=1)\n",
        "\n",
        "cm = confusion_matrix(y_true, y_pred)\n",
        "sns.heatmap(cm, annot=True, fmt='d', xticklabels=label_encoder.classes_, yticklabels=label_encoder.classes_)\n",
        "plt.xlabel('Predicted'); plt.ylabel('True'); plt.show()\n"
      ],
      "metadata": {
        "colab": {
          "base_uri": "https://localhost:8080/",
          "height": 466
        },
        "id": "fuDZYybRYg6N",
        "outputId": "2df3ce93-ec09-403d-a1b8-4bd578e3d118"
      },
      "execution_count": 22,
      "outputs": [
        {
          "output_type": "stream",
          "name": "stdout",
          "text": [
            "\u001b[1m78/78\u001b[0m \u001b[32m━━━━━━━━━━━━━━━━━━━━\u001b[0m\u001b[37m\u001b[0m \u001b[1m1s\u001b[0m 9ms/step\n"
          ]
        },
        {
          "output_type": "display_data",
          "data": {
            "text/plain": [
              "<Figure size 640x480 with 2 Axes>"
            ],
            "image/png": "[encoded data removed]"
          },
          "metadata": {}
        }
      ]
    },
    {
      "cell_type": "code",
      "source": [
        "import matplotlib.pyplot as plt\n",
        "\n",
        "plt.plot(history.history['accuracy'], label='train acc')\n",
        "plt.plot(history.history['val_accuracy'], label='val acc')\n",
        "plt.title('Accuracy')\n",
        "plt.legend()\n",
        "plt.show()\n",
        "\n",
        "plt.plot(history.history['loss'], label='train loss')\n",
        "plt.plot(history.history['val_loss'], label='val loss')\n",
        "plt.title('Loss')\n",
        "plt.legend()\n",
        "plt.show()\n"
      ],
      "metadata": {
        "colab": {
          "base_uri": "https://localhost:8080/",
          "height": 887
        },
        "id": "_DdkKRI0Yo8Q",
        "outputId": "dc113805-f3fe-4504-c18d-ec7da0278951"
      },
      "execution_count": 23,
      "outputs": [
        {
          "output_type": "display_data",
          "data": {
            "text/plain": [
              "<Figure size 640x480 with 1 Axes>"
            ],
            "image/png": "[encoded data removed]"
          },
          "metadata": {}
        },
        {
          "output_type": "display_data",
          "data": {
            "text/plain": [
              "<Figure size 640x480 with 1 Axes>"
            ],
            "image/png": "[encoded data removed]"
          },
          "metadata": {}
        }
      ]
    },
    {
      "cell_type": "code",
      "source": [
        "from sklearn.metrics import classification_report\n",
        "\n",
        "# Use same class labels as in confusion matrix\n",
        "class_names = label_encoder.classes_\n",
        "\n",
        "# Print full precision/recall/F1 report\n",
        "report = classification_report(y_true, y_pred, target_names=class_names, digits=4)\n",
        "print(report)\n"
      ],
      "metadata": {
        "colab": {
          "base_uri": "https://localhost:8080/"
        },
        "id": "qBFuZC5PY0O0",
        "outputId": "b247fe97-8d4f-4ca4-ad36-bae5b09230d9"
      },
      "execution_count": 24,
      "outputs": [
        {
          "output_type": "stream",
          "name": "stdout",
          "text": [
            "              precision    recall  f1-score   support\n",
            "\n",
            "       anger     0.7932    0.8633    0.8268       622\n",
            "   happiness     0.9030    0.8696    0.8860       621\n",
            "     neutral     0.6767    0.7641    0.7178       619\n",
            "     sadness     0.7819    0.6409    0.7044       621\n",
            "\n",
            "    accuracy                         0.7845      2483\n",
            "   macro avg     0.7887    0.7845    0.7837      2483\n",
            "weighted avg     0.7888    0.7845    0.7838      2483\n",
            "\n"
          ]
        }
      ]
    },
    {
      "cell_type": "code",
      "source": [],
      "metadata": {
        "id": "a8aJLRK2Y6jq"
      },
      "execution_count": null,
      "outputs": []
    }
  ]
}